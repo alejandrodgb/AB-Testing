{
 "cells": [
  {
   "cell_type": "code",
   "execution_count": 1,
   "metadata": {},
   "outputs": [],
   "source": [
    "import numpy as np\n",
    "import pandas as pd\n",
    "import math"
   ]
  },
  {
   "cell_type": "markdown",
   "metadata": {
    "heading_collapsed": true
   },
   "source": [
    "## Calculating significance of difference in an experiment"
   ]
  },
  {
   "cell_type": "code",
   "execution_count": 25,
   "metadata": {
    "hidden": true
   },
   "outputs": [],
   "source": [
    "def se_pooled(n_cont, x_cont, n_exp, x_exp):\n",
    "    p_pool=(x_cont+x_exp)/(n_cont+n_exp)\n",
    "    return p_pool,(p_pool*(1-p_pool)*((1/n_cont)+(1/n_exp)))**(1/2)"
   ]
  },
  {
   "cell_type": "code",
   "execution_count": 29,
   "metadata": {
    "hidden": true
   },
   "outputs": [],
   "source": [
    "nz=se_pooled(6021, 302, 5979, 374)\n",
    "g=se_pooled(50000+6021,2500+302,50000+5979,2500+374)"
   ]
  },
  {
   "cell_type": "code",
   "execution_count": 30,
   "metadata": {
    "hidden": true
   },
   "outputs": [
    {
     "data": {
      "text/plain": [
       "((0.05633333333333333, 0.00420953442023799),\n",
       " (0.05067857142857143, 0.0013108102809227253))"
      ]
     },
     "execution_count": 30,
     "metadata": {},
     "output_type": "execute_result"
    }
   ],
   "source": [
    "nz, g"
   ]
  },
  {
   "cell_type": "code",
   "execution_count": 31,
   "metadata": {
    "hidden": true
   },
   "outputs": [],
   "source": [
    "n_contg, x_contg, n_expg, x_expg=50000+6021,2500+302,50000+5979,2500+374\n",
    "n_contnz, x_contnz, n_expnz, x_expnz=6021, 302, 5979, 374"
   ]
  },
  {
   "cell_type": "code",
   "execution_count": 41,
   "metadata": {
    "hidden": true
   },
   "outputs": [
    {
     "data": {
      "text/plain": [
       "(0.0013237234004343165, 0.0025691881506085417, True)"
      ]
     },
     "execution_count": 41,
     "metadata": {},
     "output_type": "execute_result"
    }
   ],
   "source": [
    "#global difference between exp and control\n",
    "g_diff=x_expg/n_expg-x_contg/n_contg\n",
    "m_g = g[1]*1.96\n",
    "g_diff, m_g, m_g>g_diff"
   ]
  },
  {
   "cell_type": "code",
   "execution_count": 42,
   "metadata": {
    "hidden": true
   },
   "outputs": [
    {
     "data": {
      "text/plain": [
       "(0.012042147516307077, 0.00825068746366646, False)"
      ]
     },
     "execution_count": 42,
     "metadata": {},
     "output_type": "execute_result"
    }
   ],
   "source": [
    "#nz difference between exp and control\n",
    "nz_diff=x_expnz/n_expnz-x_contnz/n_expnz; nz_diff\n",
    "m_nz = nz[1]*1.96\n",
    "nz_diff, m_nz, m_nz>nz_diff"
   ]
  },
  {
   "cell_type": "markdown",
   "metadata": {
    "heading_collapsed": true
   },
   "source": [
    "## Other"
   ]
  },
  {
   "cell_type": "code",
   "execution_count": 3,
   "metadata": {
    "hidden": true
   },
   "outputs": [],
   "source": [
    "Xs_cont = np.array([196, 200, 200, 216, 212, 185, 225, 187, 205, 211, 192, 196, 223, 192])\n",
    "Ns_cont = np.array([2029, 1991, 1951, 1985, 1973, 2021, 2041, 1980, 1951, 1988, 1977, 2019, 2035, 2007])\n",
    "Xs_exp = np.array([179, 208, 205, 175, 191, 291, 278, 216, 225, 207, 205, 200, 297, 299])\n",
    "Ns_exp = np.array([1971, 2009, 2049, 2015, 2027, 1979, 1959, 2020, 2049, 2012, 2023, 1981, 1965, 1993])"
   ]
  },
  {
   "cell_type": "code",
   "execution_count": 28,
   "metadata": {
    "hidden": true
   },
   "outputs": [],
   "source": [
    "emp_se=0.0062\n",
    "emp_sf=((1/5000)+(1/5000))**(1/2)\n",
    "x_sf=((1/Ns_cont.sum())+(1/Ns_exp.sum()))**(1/2)"
   ]
  },
  {
   "cell_type": "code",
   "execution_count": 29,
   "metadata": {
    "hidden": true
   },
   "outputs": [
    {
     "data": {
      "text/plain": [
       "0.002619982707795742"
      ]
     },
     "execution_count": 29,
     "metadata": {},
     "output_type": "execute_result"
    }
   ],
   "source": [
    "SE=(emp_se/emp_sf)*x_sf; SE"
   ]
  },
  {
   "cell_type": "code",
   "execution_count": 30,
   "metadata": {
    "hidden": true
   },
   "outputs": [
    {
     "data": {
      "text/plain": [
       "(0.1132183088549836,\n",
       " 0.10161728925146701,\n",
       " 0.011601019603516588,\n",
       " (0.006465853496236934, 0.016736185710796242))"
      ]
     },
     "execution_count": 30,
     "metadata": {},
     "output_type": "execute_result"
    }
   ],
   "source": [
    "m=1.96*SE\n",
    "Xp=(Xs_exp.sum()/Ns_exp.sum())\n",
    "Np=((Xs_cont.sum()/Ns_cont.sum()))\n",
    "d=Xp-Np\n",
    "Xp,Np,d,(d-m,d+m)"
   ]
  },
  {
   "cell_type": "code",
   "execution_count": 34,
   "metadata": {
    "hidden": true
   },
   "outputs": [
    {
     "data": {
      "text/plain": [
       "(9, 14)"
      ]
     },
     "execution_count": 34,
     "metadata": {},
     "output_type": "execute_result"
    }
   ],
   "source": [
    "p_exp=Xs_exp/Ns_exp\n",
    "p_cont=Xs_cont/Ns_cont\n",
    "(p_exp>p_cont).sum(),p_exp.size"
   ]
  },
  {
   "cell_type": "code",
   "execution_count": 42,
   "metadata": {
    "hidden": true
   },
   "outputs": [
    {
     "data": {
      "text/plain": [
       "0.1221923828125"
      ]
     },
     "execution_count": 42,
     "metadata": {},
     "output_type": "execute_result"
    }
   ],
   "source": [
    "(math.factorial(14)/(math.factorial(9)*math.factorial(5)))*(.5**9)*(.5**5)"
   ]
  },
  {
   "cell_type": "code",
   "execution_count": 43,
   "metadata": {
    "hidden": true
   },
   "outputs": [
    {
     "data": {
      "text/plain": [
       "2.8331757609615376"
      ]
     },
     "execution_count": 43,
     "metadata": {},
     "output_type": "execute_result"
    }
   ],
   "source": [
    "6.5-0.98*(14**(1/2))"
   ]
  },
  {
   "cell_type": "code",
   "execution_count": 46,
   "metadata": {
    "hidden": true
   },
   "outputs": [],
   "source": [
    "def binomial(n,k,ps):\n",
    "    combs=math.factorial(n)/(math.factorial(k)*math.factorial(n-k))\n",
    "    p_success=ps**k\n",
    "    p_nsuccess=(1-ps)**(n-k)\n",
    "    return combs*p_success*p_nsuccess"
   ]
  },
  {
   "cell_type": "code",
   "execution_count": 49,
   "metadata": {
    "hidden": true
   },
   "outputs": [
    {
     "data": {
      "text/plain": [
       "0.1221923828125"
      ]
     },
     "execution_count": 49,
     "metadata": {},
     "output_type": "execute_result"
    }
   ],
   "source": [
    "binomial(10,,.5)"
   ]
  },
  {
   "cell_type": "code",
   "execution_count": 23,
   "metadata": {
    "hidden": true
   },
   "outputs": [
    {
     "data": {
      "text/plain": [
       "(0.09561792499119559, 0.4012630607616213)"
      ]
     },
     "execution_count": 23,
     "metadata": {},
     "output_type": "execute_result"
    }
   ],
   "source": [
    "1-0.99**(10),1-0.95**(10)"
   ]
  },
  {
   "cell_type": "markdown",
   "metadata": {
    "heading_collapsed": true
   },
   "source": [
    "# Bonferroni correction"
   ]
  },
  {
   "cell_type": "code",
   "execution_count": 26,
   "metadata": {
    "hidden": true
   },
   "outputs": [],
   "source": [
    "# sample data\n",
    "diffs=np.array([0.03,-.5,-.01,10])\n",
    "se=np.array([.013,.21,.0045,6.85])\n",
    "metrics=['prob of clicking though to course overview','avg time spent reading course overview page',\n",
    "         'prob of enrolling','avg time in classroom during the first week']"
   ]
  },
  {
   "cell_type": "code",
   "execution_count": 57,
   "metadata": {
    "hidden": true
   },
   "outputs": [],
   "source": [
    "z_alpha=1.96\n",
    "z_bonferroni = 2.5"
   ]
  },
  {
   "cell_type": "code",
   "execution_count": 58,
   "metadata": {
    "hidden": true
   },
   "outputs": [],
   "source": [
    "def includes_zero(diffs, se, metrics, z_alpha):\n",
    "    m=se*z_alpha\n",
    "    ub=diffs+m\n",
    "    lb=diffs-m\n",
    "    print('metrics where confidence interval includes zero')\n",
    "    return {k:v for k,v in zip(metrics,(0>lb)*(0<ub))}"
   ]
  },
  {
   "cell_type": "code",
   "execution_count": 54,
   "metadata": {
    "hidden": true
   },
   "outputs": [
    {
     "name": "stdout",
     "output_type": "stream",
     "text": [
      "metrics where confidence interval includes zero\n"
     ]
    },
    {
     "data": {
      "text/plain": [
       "{'avg time in classroom during the first week': True,\n",
       " 'avg time spent reading course overview page': False,\n",
       " 'prob of clicking though to course overview': False,\n",
       " 'prob of enrolling': False}"
      ]
     },
     "execution_count": 54,
     "metadata": {},
     "output_type": "execute_result"
    }
   ],
   "source": [
    "includes_zero(diffs, se, metrics, z_alpha)"
   ]
  },
  {
   "cell_type": "code",
   "execution_count": 59,
   "metadata": {
    "hidden": true
   },
   "outputs": [
    {
     "name": "stdout",
     "output_type": "stream",
     "text": [
      "metrics where confidence interval includes zero\n"
     ]
    },
    {
     "data": {
      "text/plain": [
       "{'avg time in classroom during the first week': True,\n",
       " 'avg time spent reading course overview page': True,\n",
       " 'prob of clicking though to course overview': True,\n",
       " 'prob of enrolling': True}"
      ]
     },
     "execution_count": 59,
     "metadata": {},
     "output_type": "execute_result"
    }
   ],
   "source": [
    "includes_zero(diffs, se, metrics, z_bonferroni)"
   ]
  },
  {
   "cell_type": "code",
   "execution_count": 60,
   "metadata": {
    "hidden": true
   },
   "outputs": [
    {
     "data": {
      "text/plain": [
       "0.00625"
      ]
     },
     "execution_count": 60,
     "metadata": {},
     "output_type": "execute_result"
    }
   ],
   "source": [
    "0.05/8"
   ]
  },
  {
   "cell_type": "markdown",
   "metadata": {},
   "source": [
    "# Final project calculations"
   ]
  },
  {
   "cell_type": "code",
   "execution_count": 2,
   "metadata": {},
   "outputs": [],
   "source": [
    "# load data\n",
    "control = pd.read_excel('final_project_data.xlsx', sheet_name='Control')\n",
    "experiment = pd.read_excel('final_project_data.xlsx', sheet_name='Experiment')"
   ]
  },
  {
   "cell_type": "code",
   "execution_count": 60,
   "metadata": {},
   "outputs": [],
   "source": [
    "df = pd.merge(left=control, right=experiment, how='outer', on='Date', suffixes=('_control','_experiment'))"
   ]
  },
  {
   "cell_type": "code",
   "execution_count": 61,
   "metadata": {},
   "outputs": [],
   "source": [
    "df.columns = df.columns.map(lambda x: x.lower())"
   ]
  },
  {
   "cell_type": "code",
   "execution_count": 5,
   "metadata": {},
   "outputs": [
    {
     "name": "stdout",
     "output_type": "stream",
     "text": [
      "<class 'pandas.core.frame.DataFrame'>\n",
      "Int64Index: 37 entries, 0 to 36\n",
      "Data columns (total 9 columns):\n",
      "date                      37 non-null object\n",
      "pageviews_control         37 non-null int64\n",
      "clicks_control            37 non-null int64\n",
      "enrollments_control       23 non-null float64\n",
      "payments_control          23 non-null float64\n",
      "pageviews_experiment      37 non-null int64\n",
      "clicks_experiment         37 non-null int64\n",
      "enrollments_experiment    23 non-null float64\n",
      "payments_experiment       23 non-null float64\n",
      "dtypes: float64(4), int64(4), object(1)\n",
      "memory usage: 2.9+ KB\n"
     ]
    }
   ],
   "source": [
    "df.info()"
   ]
  },
  {
   "cell_type": "code",
   "execution_count": 41,
   "metadata": {},
   "outputs": [
    {
     "data": {
      "text/plain": [
       "Date                      Sat, Oct 11Sun, Oct 12Mon, Oct 13Tue, Oct 14We...\n",
       "Pageviews_control                                                    345543\n",
       "Clicks_control                                                        28378\n",
       "Enrollments_control                                                    3785\n",
       "Payments_control                                                       2033\n",
       "Pageviews_experiment                                                 344660\n",
       "Clicks_experiment                                                     28325\n",
       "Enrollments_experiment                                                 3423\n",
       "Payments_experiment                                                    1945\n",
       "dtype: object"
      ]
     },
     "execution_count": 41,
     "metadata": {},
     "output_type": "execute_result"
    }
   ],
   "source": [
    "df.sum()"
   ]
  },
  {
   "cell_type": "markdown",
   "metadata": {},
   "source": [
    "## Sanity Checks"
   ]
  },
  {
   "cell_type": "markdown",
   "metadata": {},
   "source": [
    "### Number of pageviews"
   ]
  },
  {
   "cell_type": "code",
   "execution_count": 7,
   "metadata": {},
   "outputs": [],
   "source": [
    "total_pageviews=df.pageviews_control.sum()+df.pageviews_experiment.sum()\n",
    "p_control=df.pageviews_control.sum()/total_pageviews"
   ]
  },
  {
   "cell_type": "code",
   "execution_count": 8,
   "metadata": {},
   "outputs": [
    {
     "data": {
      "text/plain": [
       "(0.0006018407402943247,\n",
       " 0.0011796078509768765,\n",
       " (0.49882039214902313, 0.5011796078509769))"
      ]
     },
     "execution_count": 8,
     "metadata": {},
     "output_type": "execute_result"
    }
   ],
   "source": [
    "# checking proportion of observations in sample and control group\n",
    "expected_sd=((0.5*0.5)/total_pageviews)**(1/2)\n",
    "m = expected_sd*1.96\n",
    "ci=(.5-m, .5+m)\n",
    "expected_sd, m, ci"
   ]
  },
  {
   "cell_type": "code",
   "execution_count": 9,
   "metadata": {},
   "outputs": [
    {
     "data": {
      "text/plain": [
       "(True, 0.5006396668806133)"
      ]
     },
     "execution_count": 9,
     "metadata": {},
     "output_type": "execute_result"
    }
   ],
   "source": [
    "p_control>ci[0] and p_control<ci[1], p_control"
   ]
  },
  {
   "cell_type": "markdown",
   "metadata": {},
   "source": [
    "### Number of clicks"
   ]
  },
  {
   "cell_type": "code",
   "execution_count": 10,
   "metadata": {},
   "outputs": [
    {
     "name": "stdout",
     "output_type": "stream",
     "text": [
      "<class 'pandas.core.frame.DataFrame'>\n",
      "Int64Index: 37 entries, 0 to 36\n",
      "Data columns (total 9 columns):\n",
      "date                      37 non-null object\n",
      "pageviews_control         37 non-null int64\n",
      "clicks_control            37 non-null int64\n",
      "enrollments_control       23 non-null float64\n",
      "payments_control          23 non-null float64\n",
      "pageviews_experiment      37 non-null int64\n",
      "clicks_experiment         37 non-null int64\n",
      "enrollments_experiment    23 non-null float64\n",
      "payments_experiment       23 non-null float64\n",
      "dtypes: float64(4), int64(4), object(1)\n",
      "memory usage: 2.9+ KB\n"
     ]
    }
   ],
   "source": [
    "df.info()"
   ]
  },
  {
   "cell_type": "code",
   "execution_count": 11,
   "metadata": {},
   "outputs": [],
   "source": [
    "total_clicks=df.clicks_control.sum()+df.clicks_experiment.sum()"
   ]
  },
  {
   "cell_type": "code",
   "execution_count": 12,
   "metadata": {},
   "outputs": [
    {
     "data": {
      "text/plain": [
       "0.5004673474066628"
      ]
     },
     "execution_count": 12,
     "metadata": {},
     "output_type": "execute_result"
    }
   ],
   "source": [
    "p_control=df.clicks_control.sum()/total_clicks; p_control"
   ]
  },
  {
   "cell_type": "code",
   "execution_count": 13,
   "metadata": {},
   "outputs": [
    {
     "data": {
      "text/plain": [
       "(0.49588449572378945, 0.5041155042762105)"
      ]
     },
     "execution_count": 13,
     "metadata": {},
     "output_type": "execute_result"
    }
   ],
   "source": [
    "expected_sd = ((.5*.5)/total_clicks)**(1/2)\n",
    "m = expected_sd*1.96\n",
    "ci=(.5-m, .5+m)\n",
    "ci"
   ]
  },
  {
   "cell_type": "code",
   "execution_count": 14,
   "metadata": {},
   "outputs": [
    {
     "data": {
      "text/plain": [
       "(True, 0.5004673474066628)"
      ]
     },
     "execution_count": 14,
     "metadata": {},
     "output_type": "execute_result"
    }
   ],
   "source": [
    "p_control>ci[0] and p_control<ci[1], p_control"
   ]
  },
  {
   "cell_type": "markdown",
   "metadata": {},
   "source": [
    "## Evaluation - statistical and practical significance"
   ]
  },
  {
   "cell_type": "code",
   "execution_count": 15,
   "metadata": {},
   "outputs": [
    {
     "data": {
      "text/html": [
       "<div>\n",
       "<style scoped>\n",
       "    .dataframe tbody tr th:only-of-type {\n",
       "        vertical-align: middle;\n",
       "    }\n",
       "\n",
       "    .dataframe tbody tr th {\n",
       "        vertical-align: top;\n",
       "    }\n",
       "\n",
       "    .dataframe thead th {\n",
       "        text-align: right;\n",
       "    }\n",
       "</style>\n",
       "<table border=\"1\" class=\"dataframe\">\n",
       "  <thead>\n",
       "    <tr style=\"text-align: right;\">\n",
       "      <th></th>\n",
       "      <th>date</th>\n",
       "      <th>pageviews_control</th>\n",
       "      <th>clicks_control</th>\n",
       "      <th>enrollments_control</th>\n",
       "      <th>payments_control</th>\n",
       "      <th>pageviews_experiment</th>\n",
       "      <th>clicks_experiment</th>\n",
       "      <th>enrollments_experiment</th>\n",
       "      <th>payments_experiment</th>\n",
       "    </tr>\n",
       "  </thead>\n",
       "  <tbody>\n",
       "    <tr>\n",
       "      <th>0</th>\n",
       "      <td>Sat, Oct 11</td>\n",
       "      <td>7723</td>\n",
       "      <td>687</td>\n",
       "      <td>134.0</td>\n",
       "      <td>70.0</td>\n",
       "      <td>7716</td>\n",
       "      <td>686</td>\n",
       "      <td>105.0</td>\n",
       "      <td>34.0</td>\n",
       "    </tr>\n",
       "    <tr>\n",
       "      <th>1</th>\n",
       "      <td>Sun, Oct 12</td>\n",
       "      <td>9102</td>\n",
       "      <td>779</td>\n",
       "      <td>147.0</td>\n",
       "      <td>70.0</td>\n",
       "      <td>9288</td>\n",
       "      <td>785</td>\n",
       "      <td>116.0</td>\n",
       "      <td>91.0</td>\n",
       "    </tr>\n",
       "    <tr>\n",
       "      <th>2</th>\n",
       "      <td>Mon, Oct 13</td>\n",
       "      <td>10511</td>\n",
       "      <td>909</td>\n",
       "      <td>167.0</td>\n",
       "      <td>95.0</td>\n",
       "      <td>10480</td>\n",
       "      <td>884</td>\n",
       "      <td>145.0</td>\n",
       "      <td>79.0</td>\n",
       "    </tr>\n",
       "    <tr>\n",
       "      <th>3</th>\n",
       "      <td>Tue, Oct 14</td>\n",
       "      <td>9871</td>\n",
       "      <td>836</td>\n",
       "      <td>156.0</td>\n",
       "      <td>105.0</td>\n",
       "      <td>9867</td>\n",
       "      <td>827</td>\n",
       "      <td>138.0</td>\n",
       "      <td>92.0</td>\n",
       "    </tr>\n",
       "    <tr>\n",
       "      <th>4</th>\n",
       "      <td>Wed, Oct 15</td>\n",
       "      <td>10014</td>\n",
       "      <td>837</td>\n",
       "      <td>163.0</td>\n",
       "      <td>64.0</td>\n",
       "      <td>9793</td>\n",
       "      <td>832</td>\n",
       "      <td>140.0</td>\n",
       "      <td>94.0</td>\n",
       "    </tr>\n",
       "  </tbody>\n",
       "</table>\n",
       "</div>"
      ],
      "text/plain": [
       "          date  pageviews_control  clicks_control  enrollments_control  \\\n",
       "0  Sat, Oct 11               7723             687                134.0   \n",
       "1  Sun, Oct 12               9102             779                147.0   \n",
       "2  Mon, Oct 13              10511             909                167.0   \n",
       "3  Tue, Oct 14               9871             836                156.0   \n",
       "4  Wed, Oct 15              10014             837                163.0   \n",
       "\n",
       "   payments_control  pageviews_experiment  clicks_experiment  \\\n",
       "0              70.0                  7716                686   \n",
       "1              70.0                  9288                785   \n",
       "2              95.0                 10480                884   \n",
       "3             105.0                  9867                827   \n",
       "4              64.0                  9793                832   \n",
       "\n",
       "   enrollments_experiment  payments_experiment  \n",
       "0                   105.0                 34.0  \n",
       "1                   116.0                 91.0  \n",
       "2                   145.0                 79.0  \n",
       "3                   138.0                 92.0  \n",
       "4                   140.0                 94.0  "
      ]
     },
     "execution_count": 15,
     "metadata": {},
     "output_type": "execute_result"
    }
   ],
   "source": [
    "df.head()"
   ]
  },
  {
   "cell_type": "code",
   "execution_count": 62,
   "metadata": {},
   "outputs": [],
   "source": [
    "# gross conversion = enrollments/clicks\n",
    "# net conversion = payments/clicks\n",
    "df['gross_conversion_contol']=df['enrollments_control']/df['clicks_control']\n",
    "df['gross_conversion_experiment']=df['enrollments_experiment']/df['clicks_experiment']\n",
    "df['net_conversion_control']=df['payments_control']/df['clicks_control']\n",
    "df['net_conversion_experiment']=df['payments_experiment']/df['clicks_experiment']"
   ]
  },
  {
   "cell_type": "code",
   "execution_count": 63,
   "metadata": {},
   "outputs": [],
   "source": [
    "df['gross_conversion_diff']=df['gross_conversion_experiment']-df['gross_conversion_contol']\n",
    "df['net_conversion_diff']=df['net_conversion_experiment']-df['net_conversion_control']"
   ]
  },
  {
   "cell_type": "markdown",
   "metadata": {},
   "source": [
    "#### Gross conversion test\n",
    "$H_O: \\mu_c-\\mu_e=0$\n",
    "\n",
    "$H_A: \\mu_c-\\mu_e\\neq0$\n",
    "\n",
    "$\\alpha=0.05$\n",
    "\n",
    "$z=1.96$"
   ]
  },
  {
   "cell_type": "code",
   "execution_count": 64,
   "metadata": {},
   "outputs": [],
   "source": [
    "df=df.loc[:22]\n",
    "exp_clicks, exp_enrol, cont_clicks, cont_enrol = df.clicks_experiment.sum(),\\\n",
    "df.enrollments_experiment.sum(), df.clicks_control.sum(), df.enrollments_control.sum()"
   ]
  },
  {
   "cell_type": "code",
   "execution_count": 48,
   "metadata": {},
   "outputs": [],
   "source": [
    "def p_se(N_exp, N_cont, X_exp, X_cont):\n",
    "    p_pooled = (X_cont+X_exp)/(N_cont+N_exp)\n",
    "    se = ((p_pooled*(1-p_pooled))*((1/N_exp)+(1/N_cont)))**(1/2)\n",
    "    return p_pooled, se"
   ]
  },
  {
   "cell_type": "code",
   "execution_count": 49,
   "metadata": {},
   "outputs": [
    {
     "data": {
      "text/plain": [
       "(0.20860706740369866, 0.004371675385225936)"
      ]
     },
     "execution_count": 49,
     "metadata": {},
     "output_type": "execute_result"
    }
   ],
   "source": [
    "p_pooled, se = p_se(exp_clicks, cont_clicks, exp_enrol, cont_enrol)\n",
    "p_pooled, se"
   ]
  },
  {
   "cell_type": "code",
   "execution_count": 50,
   "metadata": {},
   "outputs": [],
   "source": [
    "d = exp_enrol/exp_clicks - cont_enrol/cont_clicks\n",
    "m = 1.96*se\n",
    "ci = (d-m, d+m)"
   ]
  },
  {
   "cell_type": "code",
   "execution_count": 51,
   "metadata": {},
   "outputs": [
    {
     "data": {
      "text/plain": [
       "(-0.020554874580361565,\n",
       " 0.008568483755042836,\n",
       " (-0.0291233583354044, -0.01198639082531873))"
      ]
     },
     "execution_count": 51,
     "metadata": {},
     "output_type": "execute_result"
    }
   ],
   "source": [
    "d, m, ci"
   ]
  },
  {
   "cell_type": "markdown",
   "metadata": {},
   "source": [
    "#### Net conversion test\n",
    "$H_O: \\mu_c-\\mu_e=0$\n",
    "\n",
    "$H_A: \\mu_c-\\mu_e\\neq0$\n",
    "\n",
    "$\\alpha=0.05$\n",
    "\n",
    "$z=1.96$"
   ]
  },
  {
   "cell_type": "code",
   "execution_count": 52,
   "metadata": {},
   "outputs": [],
   "source": [
    "# net conversion = payments/clicks\n",
    "X_exp, X_cont, N_exp, N_cont = df.payments_experiment.sum(), df.payments_control.sum(),\\\n",
    "df.clicks_experiment.sum(), df.clicks_control.sum()"
   ]
  },
  {
   "cell_type": "code",
   "execution_count": 53,
   "metadata": {},
   "outputs": [
    {
     "data": {
      "text/plain": [
       "(0.1151274853124186, 0.0034341335129324238)"
      ]
     },
     "execution_count": 53,
     "metadata": {},
     "output_type": "execute_result"
    }
   ],
   "source": [
    "p_pooled, se = p_se(N_exp, N_cont, X_exp, X_cont)\n",
    "p_pooled, se"
   ]
  },
  {
   "cell_type": "code",
   "execution_count": 56,
   "metadata": {},
   "outputs": [],
   "source": [
    "d = X_exp/N_exp - X_cont/N_cont\n",
    "m = 1.96*se\n",
    "ci = (d-m, d+m)"
   ]
  },
  {
   "cell_type": "code",
   "execution_count": 57,
   "metadata": {},
   "outputs": [
    {
     "data": {
      "text/plain": [
       "(-0.0048737226745441675,\n",
       " 0.0067309016853475505,\n",
       " (-0.011604624359891718, 0.001857179010803383))"
      ]
     },
     "execution_count": 57,
     "metadata": {},
     "output_type": "execute_result"
    }
   ],
   "source": [
    "d, m, ci"
   ]
  },
  {
   "cell_type": "markdown",
   "metadata": {},
   "source": [
    "### Sign Test"
   ]
  },
  {
   "cell_type": "code",
   "execution_count": 68,
   "metadata": {},
   "outputs": [
    {
     "data": {
      "text/plain": [
       "(0, 0)"
      ]
     },
     "execution_count": 68,
     "metadata": {},
     "output_type": "execute_result"
    }
   ],
   "source": [
    "(df.gross_conversion_diff==0).sum(), (df.net_conversion_diff==0).sum()"
   ]
  },
  {
   "cell_type": "code",
   "execution_count": 70,
   "metadata": {},
   "outputs": [],
   "source": [
    "df['gc_sign']=df.gross_conversion_diff.apply(lambda x: 'positive' if x>0 else 'negative')\n",
    "df['nc_sign']=df.net_conversion_diff.apply(lambda x: 'positive' if x>0 else 'negative')"
   ]
  },
  {
   "cell_type": "code",
   "execution_count": 71,
   "metadata": {},
   "outputs": [
    {
     "data": {
      "text/plain": [
       "negative    19\n",
       "positive     4\n",
       "Name: gc_sign, dtype: int64"
      ]
     },
     "execution_count": 71,
     "metadata": {},
     "output_type": "execute_result"
    }
   ],
   "source": [
    "df.gc_sign.value_counts()"
   ]
  },
  {
   "cell_type": "code",
   "execution_count": 72,
   "metadata": {},
   "outputs": [
    {
     "data": {
      "text/plain": [
       "negative    13\n",
       "positive    10\n",
       "Name: nc_sign, dtype: int64"
      ]
     },
     "execution_count": 72,
     "metadata": {},
     "output_type": "execute_result"
    }
   ],
   "source": [
    "df.nc_sign.value_counts()"
   ]
  },
  {
   "cell_type": "code",
   "execution_count": null,
   "metadata": {},
   "outputs": [],
   "source": []
  }
 ],
 "metadata": {
  "kernelspec": {
   "display_name": "Python 3",
   "language": "python",
   "name": "python3"
  },
  "language_info": {
   "codemirror_mode": {
    "name": "ipython",
    "version": 3
   },
   "file_extension": ".py",
   "mimetype": "text/x-python",
   "name": "python",
   "nbconvert_exporter": "python",
   "pygments_lexer": "ipython3",
   "version": "3.6.4"
  }
 },
 "nbformat": 4,
 "nbformat_minor": 2
}
