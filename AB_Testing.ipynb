{
 "cells": [
  {
   "cell_type": "markdown",
   "metadata": {
    "heading_collapsed": true
   },
   "source": [
    "## Calculating significance of difference in an experiment"
   ]
  },
  {
   "cell_type": "code",
   "execution_count": 1,
   "metadata": {
    "hidden": true
   },
   "outputs": [],
   "source": [
    "import numpy as np\n",
    "import pandas as pd"
   ]
  },
  {
   "cell_type": "code",
   "execution_count": 25,
   "metadata": {
    "hidden": true
   },
   "outputs": [],
   "source": [
    "def se_pooled(n_cont, x_cont, n_exp, x_exp):\n",
    "    p_pool=(x_cont+x_exp)/(n_cont+n_exp)\n",
    "    return p_pool,(p_pool*(1-p_pool)*((1/n_cont)+(1/n_exp)))**(1/2)"
   ]
  },
  {
   "cell_type": "code",
   "execution_count": 29,
   "metadata": {
    "hidden": true
   },
   "outputs": [],
   "source": [
    "nz=se_pooled(6021, 302, 5979, 374)\n",
    "g=se_pooled(50000+6021,2500+302,50000+5979,2500+374)"
   ]
  },
  {
   "cell_type": "code",
   "execution_count": 30,
   "metadata": {
    "hidden": true
   },
   "outputs": [
    {
     "data": {
      "text/plain": [
       "((0.05633333333333333, 0.00420953442023799),\n",
       " (0.05067857142857143, 0.0013108102809227253))"
      ]
     },
     "execution_count": 30,
     "metadata": {},
     "output_type": "execute_result"
    }
   ],
   "source": [
    "nz, g"
   ]
  },
  {
   "cell_type": "code",
   "execution_count": 31,
   "metadata": {
    "hidden": true
   },
   "outputs": [],
   "source": [
    "n_contg, x_contg, n_expg, x_expg=50000+6021,2500+302,50000+5979,2500+374\n",
    "n_contnz, x_contnz, n_expnz, x_expnz=6021, 302, 5979, 374"
   ]
  },
  {
   "cell_type": "code",
   "execution_count": 41,
   "metadata": {
    "hidden": true
   },
   "outputs": [
    {
     "data": {
      "text/plain": [
       "(0.0013237234004343165, 0.0025691881506085417, True)"
      ]
     },
     "execution_count": 41,
     "metadata": {},
     "output_type": "execute_result"
    }
   ],
   "source": [
    "#global difference between exp and control\n",
    "g_diff=x_expg/n_expg-x_contg/n_contg\n",
    "m_g = g[1]*1.96\n",
    "g_diff, m_g, m_g>g_diff"
   ]
  },
  {
   "cell_type": "code",
   "execution_count": 42,
   "metadata": {
    "hidden": true
   },
   "outputs": [
    {
     "data": {
      "text/plain": [
       "(0.012042147516307077, 0.00825068746366646, False)"
      ]
     },
     "execution_count": 42,
     "metadata": {},
     "output_type": "execute_result"
    }
   ],
   "source": [
    "#nz difference between exp and control\n",
    "nz_diff=x_expnz/n_expnz-x_contnz/n_expnz; nz_diff\n",
    "m_nz = nz[1]*1.96\n",
    "nz_diff, m_nz, m_nz>nz_diff"
   ]
  },
  {
   "cell_type": "markdown",
   "metadata": {},
   "source": [
    "## Other"
   ]
  }
 ],
 "metadata": {
  "kernelspec": {
   "display_name": "Python 3",
   "language": "python",
   "name": "python3"
  },
  "language_info": {
   "codemirror_mode": {
    "name": "ipython",
    "version": 3
   },
   "file_extension": ".py",
   "mimetype": "text/x-python",
   "name": "python",
   "nbconvert_exporter": "python",
   "pygments_lexer": "ipython3",
   "version": "3.6.4"
  }
 },
 "nbformat": 4,
 "nbformat_minor": 2
}
